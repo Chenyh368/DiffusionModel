{
 "cells": [
  {
   "cell_type": "code",
   "execution_count": 2,
   "metadata": {
    "collapsed": true
   },
   "outputs": [
    {
     "name": "stdout",
     "output_type": "stream",
     "text": [
      "======> UID of this run: 230222-225027-tlC1hN\n",
      "run_number : 0\n",
      "Directory /home/yhchenmath/Log/diffusion/raw/0 exists, please choose an option:\n",
      "Old files deleted.\n",
      "======> Directory for this run: /home/yhchenmath/Log/diffusion/raw/0\n",
      "2023-02-22 22:50:30,439 INFO Opts: Namespace(code_dir='/home/yhchenmath/Code/DiffusionModel', data_dir='/home/yhchenmath/Dataset/CV', dataset_dir='cifar10/', dataset_mode='image', exp_name='diffusion', gpu='5', json_path='./config/idm_cifar10.json', load_json=True, log_dir='/home/yhchenmath/Log', mode='train', model={'image_size': 32, 'num_channels': 128, 'num_res_blocks': 3, 'num_heads': 4, 'num_heads_upsample': -1, 'attention_resolutions': '16,8', 'dropout': 0.3, 'learn_sigma': True, 'sigma_small': False, 'class_cond': False, 'diffusion_steps': 4000, 'noise_scheduler': 'cosine', 'timestep_respacing': '', 'use_kl': False, 'predict_xstart': False, 'rescale_timesteps': True, 'rescale_learned_sigmas': True, 'use_checkpoint': False, 'use_scale_shift_norm': True}, model_name='improved_diffusion', option_for_existing_dir=None, run_name='raw', run_number='0', seed=0, train={'schedule_sampler': 'uniform', 'lr': 0.0001, 'weight_decay': 0.0, 'lr_anneal_steps': 0, 'batch_size': 128, 'microbatch': -1, 'ema_rate': 0.9999, 'log_interval': 10, 'save_interval': 10000, 'resume_checkpoint': '', 'use_fp16': False, 'fp16_scale_growth': 0.001, 'deterministic': False}, uid='230222-225027-tlC1hN')\n"
     ]
    }
   ],
   "source": [
    "import os\n",
    "os.chdir(\"/import/home2/yhchenmath/Code/DiffusionModel\")\n",
    "\n",
    "from options import Options, HyperParams\n",
    "from utils.experiman import ExperiMan\n",
    "\n",
    "import torch\n",
    "import torch.multiprocessing as mp\n",
    "import logging\n",
    "import torch.distributed as dist\n",
    "from models import create_model\n",
    "from models.improved_diffusion_model import Trainer\n",
    "from data import create_dataset\n",
    "\n",
    "manager = ExperiMan(name='default')\n",
    "parser = manager.get_basic_arg_parser()\n",
    "opt = Options(parser).parse()  # get training options\n",
    "opt.gpu = \"5\"\n",
    "manager.setup(opt)\n",
    "opt = HyperParams(**vars(opt))"
   ]
  },
  {
   "cell_type": "code",
   "execution_count": 3,
   "outputs": [
    {
     "name": "stdout",
     "output_type": "stream",
     "text": [
      "2023-02-22 22:50:55,465 INFO ======> dataset [ImageDataset] was created\n"
     ]
    }
   ],
   "source": [
    "data = create_dataset(opt, manager)"
   ],
   "metadata": {
    "collapsed": false
   }
  },
  {
   "cell_type": "code",
   "execution_count": 7,
   "outputs": [
    {
     "name": "stdout",
     "output_type": "stream",
     "text": [
      "torch.Size([128, 3, 32, 32])\n"
     ]
    }
   ],
   "source": [
    "for i in data:\n",
    "    print(i[0].shape)\n",
    "    break"
   ],
   "metadata": {
    "collapsed": false
   }
  },
  {
   "cell_type": "code",
   "execution_count": null,
   "outputs": [],
   "source": [],
   "metadata": {
    "collapsed": false
   }
  }
 ],
 "metadata": {
  "kernelspec": {
   "display_name": "Python 3",
   "language": "python",
   "name": "python3"
  },
  "language_info": {
   "codemirror_mode": {
    "name": "ipython",
    "version": 2
   },
   "file_extension": ".py",
   "mimetype": "text/x-python",
   "name": "python",
   "nbconvert_exporter": "python",
   "pygments_lexer": "ipython2",
   "version": "2.7.6"
  }
 },
 "nbformat": 4,
 "nbformat_minor": 0
}
