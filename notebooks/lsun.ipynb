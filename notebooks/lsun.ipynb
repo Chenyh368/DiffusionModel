{
 "cells": [
  {
   "cell_type": "code",
   "execution_count": null,
   "metadata": {
    "collapsed": true
   },
   "outputs": [],
   "source": [
    "\"\"\"\n",
    "Convert an LSUN lmdb database into a directory of images.\n",
    "\"\"\"\n",
    "\n",
    "import argparse\n",
    "import io\n",
    "import os\n",
    "\n",
    "from PIL import Image\n",
    "import lmdb\n",
    "import numpy as np\n",
    "\n",
    "def read_images(lmdb_path, image_size):\n",
    "    env = lmdb.open(lmdb_path, map_size=1099511627776, max_readers=100, readonly=True)\n",
    "    with env.begin(write=False) as transaction:\n",
    "        cursor = transaction.cursor()\n",
    "        for _, webp_data in cursor:\n",
    "            img = Image.open(io.BytesIO(webp_data))\n",
    "            width, height = img.size\n",
    "            scale = image_size / min(width, height)\n",
    "            img = img.resize(\n",
    "                (int(round(scale * width)), int(round(scale * height))),\n",
    "                resample=Image.BOX,\n",
    "            )\n",
    "            arr = np.array(img)\n",
    "            h, w, _ = arr.shape\n",
    "            h_off = (h - image_size) // 2\n",
    "            w_off = (w - image_size) // 2\n",
    "            arr = arr[h_off : h_off + image_size, w_off : w_off + image_size]\n",
    "            yield arr\n",
    "\n",
    "\n",
    "def dump_images(out_dir, images, prefix):\n",
    "    if not os.path.exists(out_dir):\n",
    "        os.mkdir(out_dir)\n",
    "    for i, img in enumerate(images):\n",
    "        Image.fromarray(img).save(os.path.join(out_dir, f\"{prefix}_{i:07d}.png\"))"
   ]
  },
  {
   "cell_type": "code",
   "execution_count": null,
   "outputs": [],
   "source": [
    "parser = argparse.ArgumentParser()\n",
    "parser.add_argument(\"--image-size\", help=\"new image size\", type=int, default=256)\n",
    "parser.add_argument(\"--prefix\", help=\"class name\", type=str, default=\"bedroom\")\n",
    "parser.add_argument(\"--lmdb_path\", help=\"path to an LSUN lmdb database\", default=\"/import/home2/yhchenmath/Dataset/CV/lsun/bedroom_train_lmdb\")\n",
    "parser.add_argument(\"--out_dir\", help=\"path to output directory\", default=\"/import/home2/yhchenmath/Dataset/CV/lsun/bedroom_train\")\n",
    "args, _ = parser.parse_known_args()\n",
    "\n",
    "images = read_images(args.lmdb_path, args.image_size)\n",
    "dump_images(args.out_dir, images, args.prefix)"
   ],
   "metadata": {
    "collapsed": false
   }
  }
 ],
 "metadata": {
  "kernelspec": {
   "display_name": "Python 3",
   "language": "python",
   "name": "python3"
  },
  "language_info": {
   "codemirror_mode": {
    "name": "ipython",
    "version": 2
   },
   "file_extension": ".py",
   "mimetype": "text/x-python",
   "name": "python",
   "nbconvert_exporter": "python",
   "pygments_lexer": "ipython2",
   "version": "2.7.6"
  }
 },
 "nbformat": 4,
 "nbformat_minor": 0
}
